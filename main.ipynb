{
 "cells": [
  {
   "cell_type": "code",
   "execution_count": 1,
   "metadata": {},
   "outputs": [],
   "source": [
    "from datasets import load_dataset\n",
    "import os\n",
    "os.getcwd() \n",
    "os.environ[\"TOKENIZERS_PARALLELISM\"] = \"false\"\n",
    "import warnings\n",
    "from test import *\n",
    "warnings.filterwarnings(\"ignore\")\n",
    "from datasets import load_dataset,load_metric\n",
    "from transformers import AutoTokenizer, AutoModelForSeq2SeqLM, pipeline\n",
    "import torch_optimizer as optim\n",
    "from transformers.optimization import Adafactor, AdafactorSchedule\n",
    "import torch.backends.cudnn as cudnn\n",
    "from utils import *\n",
    "from torch.utils.data import TensorDataset, DataLoader, RandomSampler, SequentialSampler, SubsetRandomSampler\n",
    "from torch.autograd import Variable\n",
    "import logging\n",
    "import sys\n",
    "import transformers\n",
    "import torch\n",
    "import time\n",
    "import argparse\n",
    "from tqdm import tqdm\n",
    "import string\n",
    "\n",
    "from transformers import RobertaTokenizer, RobertaModel"
   ]
  },
  {
   "cell_type": "code",
   "execution_count": 2,
   "metadata": {},
   "outputs": [
    {
     "name": "stdout",
     "output_type": "stream",
     "text": [
      "Namespace(batch_size=8, max_length=128, model_name='roberta-base', num_workers=0, train_num_points=500, valid_num_points=100)\n"
     ]
    }
   ],
   "source": [
    "\n",
    "device = torch.device(\"cuda\" if torch.cuda.is_available() else \"cpu\")\n",
    "parser = argparse.ArgumentParser(\"main\")\n",
    "\n",
    "parser.add_argument('--valid_num_points', type=int,             default = 100, help='validation data number')\n",
    "parser.add_argument('--train_num_points', type=int,             default = 500, help='train data number')\n",
    "parser.add_argument('--model_name',       type=str,             default = 'roberta-base', help='model name')\n",
    "parser.add_argument('--max_length',       type=int,             default=128,     help='max_length')\n",
    "parser.add_argument('--batch_size',       type=int,             default=8,     help='Batch size')\n",
    "parser.add_argument('--num_workers',      type=int,             default=0,      help='num_workers')\n",
    "\n",
    "args = parser.parse_args(args=[])#(args=['--batch_size', '8',  '--no_cuda'])#used in ipynb\n",
    "print(args)\n",
    "\n",
    "dataset = load_dataset('glue', 'mnli')"
   ]
  },
  {
   "cell_type": "code",
   "execution_count": null,
   "metadata": {},
   "outputs": [],
   "source": [
    "train = dataset['train'][:args.train_num_points]\n",
    "valid = dataset['train'][-args.valid_num_points:]\n",
    "\n",
    "tokenizer = RobertaTokenizer.from_pretrained(args.model_name)\n",
    "#mnli\n",
    "#The Multi-Genre Natural Language Inference Corpus is a crowdsourced collection of sentence pairs with textual entailment annotations. Given a premise sentence and a hypothesis sentence, the task is to predict whether the premise entails the hypothesis (entailment), contradicts the hypothesis (contradiction), or neither (neutral). The premise sentences are gathered from ten different sources, including transcribed speech, fiction, and government reports. The authors of the benchmark use the standard test set, for which they obtained private labels from the RTE authors, and evaluate on both the matched (in-domain) and mismatched (cross-domain) section. They also uses and recommend the SNLI corpus as 550k examples of auxiliary training data."
   ]
  },
  {
   "cell_type": "code",
   "execution_count": null,
   "metadata": {},
   "outputs": [
    {
     "name": "stdout",
     "output_type": "stream",
     "text": [
      "tensor([[    0,  9157, 16771,  ...,     1,     1,     1],\n",
      "        [    0,  6968,   216,  ...,     1,     1,     1],\n",
      "        [    0,  3762,     9,  ...,     1,     1,     1],\n",
      "        ...,\n",
      "        [    0,   133,  8725,  ...,     1,     1,     1],\n",
      "        [    0,   170,  2885,  ...,     1,     1,     1],\n",
      "        [    0, 33049,   957,  ...,     1,     1,     1]]) tensor([[1, 1, 1,  ..., 0, 0, 0],\n",
      "        [1, 1, 1,  ..., 0, 0, 0],\n",
      "        [1, 1, 1,  ..., 0, 0, 0],\n",
      "        ...,\n",
      "        [1, 1, 1,  ..., 0, 0, 0],\n",
      "        [1, 1, 1,  ..., 0, 0, 0],\n",
      "        [1, 1, 1,  ..., 0, 0, 0]]) tensor([1., 0., 0., 0., 1., 0., 1., 0., 2., 2., 0., 2., 1., 1., 2., 0., 0., 2.,\n",
      "        2., 1., 0., 0., 2., 0., 0., 1., 2., 1., 2., 0., 0., 0., 2., 1., 2., 0.,\n",
      "        0., 2., 2., 2., 0., 1., 0., 1., 0., 0., 2., 2., 1., 0., 0., 0., 2., 1.,\n",
      "        1., 1., 2., 1., 2., 1., 1., 0., 2., 0., 1., 2., 2., 2., 2., 2., 1., 1.,\n",
      "        2., 2., 2., 0., 2., 1., 0., 1., 2., 2., 2., 0., 1., 0., 1., 0., 2., 1.,\n",
      "        1., 2., 2., 0., 0., 2., 1., 0., 2., 0., 2., 0., 2., 1., 2., 1., 0., 0.,\n",
      "        2., 0., 2., 0., 0., 0., 0., 0., 2., 2., 2., 0., 2., 1., 2., 0., 0., 0.,\n",
      "        0., 2., 0., 0., 0., 0., 1., 2., 2., 0., 2., 1., 2., 0., 0., 0., 2., 1.,\n",
      "        2., 2., 1., 2., 1., 2., 0., 2., 1., 1., 0., 1., 2., 0., 1., 1., 1., 0.,\n",
      "        2., 0., 0., 1., 0., 1., 0., 0., 1., 0., 2., 0., 1., 2., 0., 0., 1., 2.,\n",
      "        2., 1., 0., 1., 0., 2., 2., 0., 2., 2., 2., 0., 2., 2., 2., 2., 1., 2.,\n",
      "        2., 0., 2., 0., 2., 0., 0., 0., 1., 1., 0., 1., 0., 0., 2., 2., 2., 1.,\n",
      "        2., 1., 0., 0., 1., 2., 1., 1., 1., 2., 2., 2., 0., 2., 2., 1., 1., 0.,\n",
      "        1., 0., 1., 2., 0., 0., 0., 0., 0., 0., 0., 2., 0., 2., 0., 2., 0., 1.,\n",
      "        0., 1., 1., 2., 1., 1., 1., 1., 0., 1., 0., 0., 1., 0., 1., 2., 2., 2.,\n",
      "        1., 0., 0., 2., 2., 2., 1., 2., 2., 1., 1., 0., 1., 2., 0., 2., 0., 0.,\n",
      "        0., 2., 0., 0., 1., 1., 2., 1., 2., 1., 1., 1., 2., 0., 2., 2., 1., 0.,\n",
      "        1., 2., 2., 0., 0., 0., 2., 0., 1., 1., 2., 0., 2., 2., 1., 1., 2., 2.,\n",
      "        1., 2., 2., 1., 2., 1., 2., 2., 1., 1., 1., 2., 2., 0., 0., 2., 1., 2.,\n",
      "        1., 1., 2., 1., 0., 0., 0., 0., 2., 2., 1., 2., 1., 1., 0., 0., 0., 0.,\n",
      "        1., 2., 2., 2., 2., 0., 1., 2., 1., 0., 0., 2., 1., 0., 0., 1., 1., 0.,\n",
      "        0., 1., 2., 0., 2., 2., 2., 0., 0., 2., 2., 1., 0., 2., 2., 1., 1., 1.,\n",
      "        1., 1., 1., 0., 1., 1., 2., 2., 0., 2., 2., 2., 0., 0., 1., 2., 0., 0.,\n",
      "        0., 0., 0., 0., 2., 0., 0., 0., 0., 2., 1., 1., 0., 2., 2., 2., 2., 2.,\n",
      "        0., 0., 2., 2., 2., 2., 2., 1., 1., 0., 1., 0., 1., 0., 2., 1., 0., 2.,\n",
      "        0., 1., 0., 1., 2., 0., 0., 2., 1., 0., 2., 0., 0., 2., 1., 0., 0., 2.,\n",
      "        2., 2., 1., 1., 2., 2., 0., 2., 1., 2., 0., 2., 0., 0., 2., 0., 2., 0.,\n",
      "        2., 2., 1., 1., 0., 1., 2., 2., 0., 1., 1., 2., 0., 1.])\n"
     ]
    },
    {
     "ename": "AttributeError",
     "evalue": "'Namespace' object has no attribute 'batch_size'",
     "output_type": "error",
     "traceback": [
      "\u001b[1;31m---------------------------------------------------------------------------\u001b[0m",
      "\u001b[1;31mAttributeError\u001b[0m                            Traceback (most recent call last)",
      "\u001b[1;32m~\\AppData\\Local\\Temp/ipykernel_25684/3299488718.py\u001b[0m in \u001b[0;36m<module>\u001b[1;34m\u001b[0m\n\u001b[0;32m      1\u001b[0m \u001b[0mtrain_data\u001b[0m \u001b[1;33m=\u001b[0m \u001b[0mget_Dataset\u001b[0m\u001b[1;33m(\u001b[0m\u001b[0mtrain\u001b[0m\u001b[1;33m,\u001b[0m \u001b[0mtokenizer\u001b[0m\u001b[1;33m,\u001b[0m\u001b[0mmax_length\u001b[0m\u001b[1;33m=\u001b[0m\u001b[0margs\u001b[0m\u001b[1;33m.\u001b[0m\u001b[0mmax_length\u001b[0m\u001b[1;33m)\u001b[0m\u001b[1;33m\u001b[0m\u001b[1;33m\u001b[0m\u001b[0m\n\u001b[0;32m      2\u001b[0m train_dataloader = DataLoader(train_data, sampler= RandomSampler(train_data), \n\u001b[1;32m----> 3\u001b[1;33m                         batch_size=args.batch_size, pin_memory=args.num_workers>0, num_workers=args.num_workers)\n\u001b[0m\u001b[0;32m      4\u001b[0m \u001b[0mvalid_data\u001b[0m \u001b[1;33m=\u001b[0m \u001b[0mget_Dataset\u001b[0m\u001b[1;33m(\u001b[0m\u001b[0mvalid\u001b[0m\u001b[1;33m,\u001b[0m \u001b[0mtokenizer\u001b[0m\u001b[1;33m,\u001b[0m\u001b[0mmax_length\u001b[0m\u001b[1;33m=\u001b[0m\u001b[0margs\u001b[0m\u001b[1;33m.\u001b[0m\u001b[0mmax_length\u001b[0m\u001b[1;33m)\u001b[0m\u001b[1;33m\u001b[0m\u001b[1;33m\u001b[0m\u001b[0m\n\u001b[0;32m      5\u001b[0m valid_dataloader = DataLoader(valid_data, sampler=SequentialSampler(valid_data), \n",
      "\u001b[1;31mAttributeError\u001b[0m: 'Namespace' object has no attribute 'batch_size'"
     ]
    }
   ],
   "source": [
    "train_data = get_Dataset(train, tokenizer,max_length=args.max_length)\n",
    "train_dataloader = DataLoader(train_data, sampler= SequentialSampler(train_data), \n",
    "                        batch_size=args.batch_size, pin_memory=args.num_workers>0, num_workers=args.num_workers)\n",
    "valid_data = get_Dataset(valid, tokenizer,max_length=args.max_length)\n",
    "valid_dataloader = DataLoader(valid_data, sampler=SequentialSampler(valid_data), \n",
    "                        batch_size=args.batch_size, pin_memory=args.num_workers>0, num_workers=args.num_workers)"
   ]
  },
  {
   "cell_type": "code",
   "execution_count": null,
   "metadata": {},
   "outputs": [],
   "source": []
  }
 ],
 "metadata": {
  "kernelspec": {
   "display_name": "python38",
   "language": "python",
   "name": "python3"
  },
  "language_info": {
   "codemirror_mode": {
    "name": "ipython",
    "version": 3
   },
   "file_extension": ".py",
   "mimetype": "text/x-python",
   "name": "python",
   "nbconvert_exporter": "python",
   "pygments_lexer": "ipython3",
   "version": "3.8.12"
  },
  "orig_nbformat": 4
 },
 "nbformat": 4,
 "nbformat_minor": 2
}
